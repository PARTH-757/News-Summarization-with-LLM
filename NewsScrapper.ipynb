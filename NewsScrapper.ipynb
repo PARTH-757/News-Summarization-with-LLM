{
 "cells": [
  {
   "cell_type": "code",
   "execution_count": 1,
   "metadata": {},
   "outputs": [],
   "source": [
    "from newsdataapi import NewsDataApiClient\n",
    "from langchain.agents import initialize_agent, Tool\n",
    "from langchain.agents import AgentType\n",
    "from langchain.chat_models import ChatOpenAI\n",
    "from langchain.experimental.plan_and_execute import PlanAndExecute, load_agent_executor, load_chat_planner\n",
    "import credentials\n",
    "from time import sleep"
   ]
  },
  {
   "cell_type": "code",
   "execution_count": null,
   "metadata": {},
   "outputs": [],
   "source": [
    "import random\n",
    "from newsdataapi import NewsDataApiClient\n",
    "\n",
    "class NewsExtractor:\n",
    "    \"\"\"\n",
    "    A class for extracting the latest news based on a search query.\n",
    "    \"\"\"\n",
    "\n",
    "    def __init__(self, NEWSDATA_KEY: str, search_query: str = None):\n",
    "        \"\"\"\n",
    "        Initializes the NewsExtractor instance.\n",
    "\n",
    "        Args:\n",
    "            NEWSDATA_KEY (str): The API key for the NewsDataApiClient.\n",
    "            search_query (str, optional): The variable to be searched. Defaults to None.\n",
    "        \"\"\"\n",
    "        self.NEWSDATA_KEY = NEWSDATA_KEY\n",
    "        self.search_query = search_query\n",
    "        self.api = NewsDataApiClient(apikey=self.NEWSDATA_KEY)  # Initialize API client once\n",
    "\n",
    "    def get_news(self, query: str = None) -> list:\n",
    "        \"\"\"\n",
    "        Retrieves the latest news based on a search query.\n",
    "\n",
    "        Args:\n",
    "            query (str, optional): The search term. If provided, overrides the class search_query.\n",
    "        \n",
    "        Returns:\n",
    "            list: A list of news content strings.\n",
    "        \"\"\"\n",
    "        search_term = query or self.search_query  # Use query if provided, otherwise use self.search_query\n",
    "\n",
    "        try:\n",
    "            # Fetch news based on search term\n",
    "            response = self.api.news_api(q=search_term, country=\"in\", language=\"en\") if search_term else \\\n",
    "                       self.api.news_api(country=\"in\", language=\"en\")\n",
    "\n",
    "            if \"results\" not in response:\n",
    "                return []  # Return empty list if no results\n",
    "\n",
    "            # Extract news content safely\n",
    "            news = [content.get(\"content\", \"No content available\") for content in response[\"results\"]]\n",
    "\n",
    "            return random.sample(news, min(len(news), 1))  # Return one random news item as a list\n",
    "        \n",
    "        except Exception as e:\n",
    "            print(f\"Error fetching news: {e}\")\n",
    "            return []  # Return empty list on failure\n"
   ]
  },
  {
   "cell_type": "code",
   "execution_count": 3,
   "metadata": {},
   "outputs": [],
   "source": [
    "def news_summarizer(NEWSDATA_KEY:str, OPENAI_KEY:str, limit:str=\"175 characters\", total_news:int=5, sleep_seconds:int=20, search_query:str=None):\n",
    "    '''\n",
    "    Function that retrieves the latest news and generates short summaries for the news using an AI model.\n",
    "    \n",
    "    Args:\n",
    "        NEWSDATA_KEY (str): The API key for the NewsDataApiClient.\n",
    "        OPENAI_KEY (str): The API key for the ChatOpenAI model.\n",
    "        limit (str): The maximum character limit for each news summary. Defaults to \"175 characters\".\n",
    "        total_news (int): The number of news articles to summarize. Defaults to 5.\n",
    "        sleep_seconds (int): The number of seconds to wait between each news retrieval and summarization. Defaults to 20.\n",
    "        search_query (str, optional): The variable to be searched. Defaults to None.\n",
    "    \n",
    "    Returns:\n",
    "        list: A list of responses containing the generated news summaries.\n",
    "    '''\n",
    "    \n",
    "    llm = ChatOpenAI(temperature=0, model='gpt-3.5-turbo-0613', openai_api_key=OPENAI_KEY)  # Initializing the ChatOpenAI model with the provided parameters\n",
    "    \n",
    "    NE = NewsExtractor(NEWSDATA_KEY, search_query)  # Creating an instance of the NewsExtractor class\n",
    "    \n",
    "    newssummary = Tool(\n",
    "        name='newssummary',\n",
    "        func=NE.get_news,\n",
    "        description='get latest news as a list of strings',\n",
    "    )  # Initializing the newssummary Tool to retrieve the latest news\n",
    "    \n",
    "    tools = [newssummary]  # Creating a list of tools containing the newssummary Tool\n",
    "    \n",
    "    agent = initialize_agent(tools, llm, agent=AgentType.OPENAI_FUNCTIONS, verbose=True)  # Initializing the agent with the provided tools and ChatOpenAI model\n",
    "    \n",
    "    responses = []  # Initializing an empty list to store the generated news summaries\n",
    "    \n",
    "    prompt = f\"\"\"\n",
    "    Your task is to get the latest news and then generate a short summary for this news \\\n",
    "    Summarize the news \n",
    "    in at most {limit}. Try to be as short as possible. Never ever cross the {limit} limit for summarized news.\n",
    "    \"\"\"  # The prompt for the agent to generate the news summaries\n",
    "    \n",
    "    for _ in range(total_news):\n",
    "        response = agent.run(prompt)  # Running the agent to generate the news summary\n",
    "        responses.append(response)  # Appending the generated news summary to the responses list\n",
    "        sleep(sleep_seconds)  # Sleeping for the specified number of seconds before each news retrieval and summarization\n",
    "    \n",
    "    return responses  # Returning the list of generated news summaries"
   ]
  },
  {
   "cell_type": "code",
   "execution_count": 4,
   "metadata": {},
   "outputs": [
    {
     "name": "stdout",
     "output_type": "stream",
     "text": [
      "\n",
      "\n",
      "\u001b[1m> Entering new  chain...\u001b[0m\n",
      "\u001b[32;1m\u001b[1;3m\n",
      "Invoking: `newssummary` with `{'source': 'latest'}`\n",
      "\n",
      "\n",
      "\u001b[0m\u001b[36;1m\u001b[1;3mMen’s Player Rankings: Sikandar Raza, Nicholas Pooran make big gains after impressive show at ODI WC Qualifiers IANS Updated: June 28th, 2023, 15:45 IST in Sports 0 Image: PunjabKingsIPL/Twitter Share on Facebook Share on Twitter Share on WhatsApp Share on Linkedin Dubai: Following their impressive performances in the group stage of the Men’s ODI World Cup Qualifier in Zimbabwe, all-rounder Sikandar Raza and West Indies wicketkeeper-batter Nicholas Pooran have made big gains in the latest men’s player rankings for the format. Raza jumped seven places to 27th position in the batting rankings, released Wednesday, following three powerful innings in the Qualifiers at home. The 37-year-old opened the campaign with a sizzling 102 not out against Netherlands, and followed it up with 68 against the West Indies and 48 against the USA. With his off-spin, Raza is also among the top six wicket-takers at the Qualifier with eight scalps. The dazzling form with both bat and ball has resulted in Raza climbing two spots to third in the ODI all-rounder Rankings, only behind Bangladesh’s Shakib Al Hasan and Afghanistan’s Mohammad Nabi in first and second place respectively. On the other hand, Pooran has jumped 13 places to be ranked 19th in the ODI batting rankings following two centuries for West Indies at the Qualifier. The left-handed batter was the second-highest scorer during the group stage with 296 runs, including 115 against Nepal and 104 not out against the Netherlands before it went in vain due to the Super Over defeat. Pooran has also thundered the most sixes in the group stage with 15, and now looms as a crucial element for the West Indies’ hopes of snatching a spot at the ICC Men’s Cricket World Cup in India later this year. Netherlands skipper Scott Edwards’ three fifties from three innings has resulted in him jumping 24 places to 40th position in the ODI batting rankings, while the tournament’s current top run-scorer, Zimbabwe veteran Sean Williams, climbs 10 spots to 43rd place. Sri Lanka leg-spinner Wanindu Hasaranga, also the leading wicket-taker in the group stage of the Qualifier with 18 scalps from four matches, has risen two spots to 24th in the ODI Bowling Rankings. Zimbabwe pacer Richard Ngarava, who has equal second-most wickets at the tournament so far with 10 scalps, has jumped 27 spots to equal 32nd place in the ODI bowling rankings. There are no changes to the top 10 of the ODI batting or bowling rankings, with Pakistan skipper Babar Azam and Australia pacer Josh Hazlewood retaining their top spots. IANS Tags: ICC Mohammad Nabi Nicholas Pooran odi Rankings Shakib al Hasan Sikandar Raza west indies Zimbabwe Share Tweet Send Share Suggest A Correction Enter your email to get our daily news in your inbox. Leave this field empty if you're human: Related Posts Carlos Alcaraz, Iga Swiatek secure No. 1 seeds for Wimbledon June 28, 2023 England win toss, opt to bowl first against Australia in 2nd Ashes test at Lord’s June 28, 2023 Women’s Ashes: Danielle Gibson gets maiden England T20I call-up, Issy Wong returns June 28, 2023 India to play three T20Is in Ireland after playing five-match series against West Indies June 28, 2023 SAFF Championship: Late own goal after Sunil Chhetri stunner spoils India’s party as Kuwait draw 1-1 June 28, 2023 PM Narendra Modi congratulates Indian athletes for incredible success at Special Olympics June 28, 2023 Leave a Reply Cancel reply Your email address will not be published. Required fields are marked * Comment * Name * Email * Website Save my name, email, and website in this browser for the next time I comment. Δ\u001b[0m\u001b[32;1m\u001b[1;3mSikandar Raza and Nicholas Pooran have made significant gains in the latest men's player rankings after their impressive performances in the Men's ODI World Cup Qualifier. Raza climbed to 27th position in the batting rankings and third in the all-rounder rankings, while Pooran jumped to 19th in the batting rankings. Both players played crucial roles in their respective teams' campaigns and are now key players for their countries' hopes of qualifying for the ICC Men's Cricket World Cup.\u001b[0m\n",
      "\n",
      "\u001b[1m> Finished chain.\u001b[0m\n"
     ]
    }
   ],
   "source": [
    "response = news_summarizer(credentials.NEWSDATA_KEY, credentials.OPENAI_KEY, limit=\"175 characters\", total_news = 1,sleep_seconds = 20,search_query = \"ICC\")"
   ]
  },
  {
   "cell_type": "code",
   "execution_count": 5,
   "metadata": {},
   "outputs": [
    {
     "data": {
      "text/plain": [
       "[\"Sikandar Raza and Nicholas Pooran have made significant gains in the latest men's player rankings after their impressive performances in the Men's ODI World Cup Qualifier. Raza climbed to 27th position in the batting rankings and third in the all-rounder rankings, while Pooran jumped to 19th in the batting rankings. Both players played crucial roles in their respective teams' campaigns and are now key players for their countries' hopes of qualifying for the ICC Men's Cricket World Cup.\"]"
      ]
     },
     "execution_count": 5,
     "metadata": {},
     "output_type": "execute_result"
    }
   ],
   "source": [
    "response"
   ]
  },
  {
   "cell_type": "code",
   "execution_count": null,
   "metadata": {},
   "outputs": [],
   "source": []
  }
 ],
 "metadata": {
  "kernelspec": {
   "display_name": "langchain",
   "language": "python",
   "name": "python3"
  },
  "language_info": {
   "codemirror_mode": {
    "name": "ipython",
    "version": 3
   },
   "file_extension": ".py",
   "mimetype": "text/x-python",
   "name": "python",
   "nbconvert_exporter": "python",
   "pygments_lexer": "ipython3",
   "version": "3.10.11"
  },
  "orig_nbformat": 4
 },
 "nbformat": 4,
 "nbformat_minor": 2
}
